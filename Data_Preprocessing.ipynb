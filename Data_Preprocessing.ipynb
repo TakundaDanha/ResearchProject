{
 "cells": [
  {
   "cell_type": "code",
   "execution_count": 4,
   "id": "d0e0bfee-f079-4c43-8391-db84c1026b9c",
   "metadata": {},
   "outputs": [
    {
     "name": "stdout",
     "output_type": "stream",
     "text": [
      "Data sampling complete. Saved to 'filtered_lifts_data..csv'.\n"
     ]
    }
   ],
   "source": [
    "import pandas as pd\n",
    "\n",
    "chunk_size = 2000\n",
    "chunks = []\n",
    "\n",
    "for chunk in pd.read_csv('powerlifting.csv', chunksize=chunk_size, low_memory=False, on_bad_lines='skip'):\n",
    "    chunk.dropna(subset=['Bench1Kg', 'Bench2Kg', 'Bench3Kg',\n",
    "                         'Squat1Kg', 'Squat2Kg', 'Squat3Kg',\n",
    "                         'Deadlift1Kg', 'Deadlift2Kg', 'Deadlift3Kg'], \n",
    "                 how='all', inplace=True)\n",
    "    \n",
    "    chunk = chunk[~chunk[['Bench1Kg', 'Bench2Kg', 'Bench3Kg']].isna().all(axis=1)]\n",
    "    chunk = chunk[~chunk[['Squat1Kg', 'Squat2Kg', 'Squat3Kg']].isna().all(axis=1)]\n",
    "    chunk = chunk[~chunk[['Deadlift1Kg', 'Deadlift2Kg', 'Deadlift3Kg']].isna().all(axis=1)]\n",
    "\n",
    "    chunk = chunk[~chunk['Place'].isin(['DQ', 'G'])]\n",
    "    chunk = chunk[pd.to_numeric(chunk['Place'], errors='coerce').notna()]\n",
    "    chunk['Place'] = chunk['Place'].astype(int)\n",
    "    chunk = chunk[chunk['Place'] > 0]\n",
    "\n",
    "    chunk['Sex'] = chunk['Sex'].fillna('Unknown')\n",
    "    chunk['WeightClassKg'] = chunk['WeightClassKg'].fillna('Unknown')\n",
    "    \n",
    "    chunk['WeightClassKg'] = pd.to_numeric(chunk['WeightClassKg'], errors='coerce')\n",
    "    chunk = chunk[(chunk['WeightClassKg'] >= 60) & (chunk['WeightClassKg'] <= 110)]\n",
    "\n",
    "    def classify_lift(value):\n",
    "        if value == '-' or (isinstance(value, (int, float)) and value < 0):\n",
    "            return 0\n",
    "        elif pd.isna(value) or value == 'No Attempt':\n",
    "            return 2\n",
    "        else:\n",
    "            return 1\n",
    "\n",
    "    for col in ['Bench1Kg', 'Bench2Kg', 'Bench3Kg', 'Squat1Kg', 'Squat2Kg', 'Squat3Kg',\n",
    "                'Deadlift1Kg', 'Deadlift2Kg', 'Deadlift3Kg']:\n",
    "        result_col = col.replace('Kg', 'Result')\n",
    "        chunk[col] = chunk[col].replace('No Attempt', 0)\n",
    "        chunk[result_col] = chunk[col].apply(classify_lift)\n",
    "\n",
    "    chunk['TotalKg'] = chunk['TotalKg'].fillna(0)\n",
    "\n",
    "    chunks.append(chunk)\n",
    "\n",
    "df_combined = pd.concat(chunks, ignore_index=True)\n",
    "\n",
    "sampled_df = df_combined.sample(n=25000, random_state=42)\n",
    "\n",
    "sampled_df.to_csv('filtered_lifts_data.csv', index=False)\n",
    "\n",
    "print(\"Data sampling complete. Saved to 'filtered_lifts_data..csv'.\")\n"
   ]
  },
  {
   "cell_type": "code",
   "execution_count": null,
   "id": "36486b5b-1be2-4dd7-8770-261583eae50a",
   "metadata": {},
   "outputs": [],
   "source": []
  }
 ],
 "metadata": {
  "kernelspec": {
   "display_name": "Python 3 (ipykernel)",
   "language": "python",
   "name": "python3"
  },
  "language_info": {
   "codemirror_mode": {
    "name": "ipython",
    "version": 3
   },
   "file_extension": ".py",
   "mimetype": "text/x-python",
   "name": "python",
   "nbconvert_exporter": "python",
   "pygments_lexer": "ipython3",
   "version": "3.12.7"
  }
 },
 "nbformat": 4,
 "nbformat_minor": 5
}
